{
  "nbformat": 4,
  "nbformat_minor": 0,
  "metadata": {
    "colab": {
      "provenance": [],
      "include_colab_link": true
    },
    "kernelspec": {
      "name": "python3",
      "display_name": "Python 3"
    },
    "language_info": {
      "name": "python"
    }
  },
  "cells": [
    {
      "cell_type": "markdown",
      "metadata": {
        "id": "view-in-github",
        "colab_type": "text"
      },
      "source": [
        "<a href=\"https://colab.research.google.com/github/bkneussl/SE-Digital-Organizations/blob/main/questions_chapter2_student.ipynb\" target=\"_parent\"><img src=\"https://colab.research.google.com/assets/colab-badge.svg\" alt=\"Open In Colab\"/></a>"
      ]
    },
    {
      "cell_type": "markdown",
      "source": [
        "## Framing the Problem\n",
        "Your task is to build a machine learning model that predicts house prices in King County, an area in the US state of Washington, as described in Chapter 2 of the book *Hands-On Machine Learning with Scikit-Learn, Keras & TensorFlow*. Please read chapter 2 carefully in parallel. Your model should learn from the given data and be able to predict new home prices using the given metrics. Let's take a look at our given dataset:"
      ],
      "metadata": {
        "id": "v10yoQjR2ns5"
      }
    },
    {
      "cell_type": "markdown",
      "source": [
        "The following code imports some packages, mounts the Google Drive folder and loads the data. Run the code and adapt the file paths!"
      ],
      "metadata": {
        "id": "PAICR2qXyXTr"
      }
    },
    {
      "cell_type": "code",
      "execution_count": 3,
      "metadata": {
        "id": "GoSAWWcmvXJp",
        "outputId": "2638a6e3-1dda-4ed6-e578-fbdde1a37ff6",
        "colab": {
          "base_uri": "https://localhost:8080/",
          "height": 323
        }
      },
      "outputs": [
        {
          "output_type": "stream",
          "name": "stdout",
          "text": [
            "Drive already mounted at /content/drive; to attempt to forcibly remount, call drive.mount(\"/content/drive\", force_remount=True).\n"
          ]
        },
        {
          "output_type": "execute_result",
          "data": {
            "text/plain": [
              "              date      price  bedrooms  bathrooms  sqft_living  sqft_lot  \\\n",
              "0  20141013T000000   221900.0         3       1.00         1180      5650   \n",
              "1  20141209T000000   538000.0         3       2.25         2570      7242   \n",
              "2  20150225T000000   180000.0         2       1.00          770     10000   \n",
              "3  20141209T000000   604000.0         4       3.00         1960      5000   \n",
              "4  20150218T000000   510000.0         3       2.00         1680      8080   \n",
              "5  20140512T000000  1225000.0         4       4.50         5420    101930   \n",
              "6  20140627T000000   257500.0         3       2.25         1715      6819   \n",
              "7  20150115T000000   291850.0         3       1.50         1060      9711   \n",
              "8  20150415T000000   229500.0         3       1.00         1780      7470   \n",
              "9  20150312T000000   323000.0         3       2.50         1890      6560   \n",
              "\n",
              "   floors  waterfront  view  condition  grade  sqft_above  sqft_basement  \\\n",
              "0     1.0           0     0          3      7        1180              0   \n",
              "1     2.0           0     0          3      7        2170            400   \n",
              "2     1.0           0     0          3      6         770              0   \n",
              "3     1.0           0     0          5      7        1050            910   \n",
              "4     1.0           0     0          3      8        1680              0   \n",
              "5     1.0           0     0          3     11        3890           1530   \n",
              "6     2.0           0     0          3      7        1715              0   \n",
              "7     1.0           0     0          3      7        1060              0   \n",
              "8     1.0           0     0          3      7        1050            730   \n",
              "9     2.0           0     0          3      7        1890              0   \n",
              "\n",
              "   yr_built  yr_renovated  zipcode      lat     long  \n",
              "0      1955             0    98178  47.5112 -122.257  \n",
              "1      1951          1991    98125  47.7210 -122.319  \n",
              "2      1933             0    98028  47.7379 -122.233  \n",
              "3      1965             0    98136  47.5208 -122.393  \n",
              "4      1987             0    98074  47.6168 -122.045  \n",
              "5      2001             0    98053  47.6561 -122.005  \n",
              "6      1995             0    98003  47.3097 -122.327  \n",
              "7      1963             0    98198  47.4095 -122.315  \n",
              "8      1960             0    98146  47.5123 -122.337  \n",
              "9      2003             0    98038  47.3684 -122.031  "
            ],
            "text/html": [
              "\n",
              "  <div id=\"df-51a500c8-a74f-4d67-9834-e99a80c2114b\">\n",
              "    <div class=\"colab-df-container\">\n",
              "      <div>\n",
              "<style scoped>\n",
              "    .dataframe tbody tr th:only-of-type {\n",
              "        vertical-align: middle;\n",
              "    }\n",
              "\n",
              "    .dataframe tbody tr th {\n",
              "        vertical-align: top;\n",
              "    }\n",
              "\n",
              "    .dataframe thead th {\n",
              "        text-align: right;\n",
              "    }\n",
              "</style>\n",
              "<table border=\"1\" class=\"dataframe\">\n",
              "  <thead>\n",
              "    <tr style=\"text-align: right;\">\n",
              "      <th></th>\n",
              "      <th>date</th>\n",
              "      <th>price</th>\n",
              "      <th>bedrooms</th>\n",
              "      <th>bathrooms</th>\n",
              "      <th>sqft_living</th>\n",
              "      <th>sqft_lot</th>\n",
              "      <th>floors</th>\n",
              "      <th>waterfront</th>\n",
              "      <th>view</th>\n",
              "      <th>condition</th>\n",
              "      <th>grade</th>\n",
              "      <th>sqft_above</th>\n",
              "      <th>sqft_basement</th>\n",
              "      <th>yr_built</th>\n",
              "      <th>yr_renovated</th>\n",
              "      <th>zipcode</th>\n",
              "      <th>lat</th>\n",
              "      <th>long</th>\n",
              "    </tr>\n",
              "  </thead>\n",
              "  <tbody>\n",
              "    <tr>\n",
              "      <th>0</th>\n",
              "      <td>20141013T000000</td>\n",
              "      <td>221900.0</td>\n",
              "      <td>3</td>\n",
              "      <td>1.00</td>\n",
              "      <td>1180</td>\n",
              "      <td>5650</td>\n",
              "      <td>1.0</td>\n",
              "      <td>0</td>\n",
              "      <td>0</td>\n",
              "      <td>3</td>\n",
              "      <td>7</td>\n",
              "      <td>1180</td>\n",
              "      <td>0</td>\n",
              "      <td>1955</td>\n",
              "      <td>0</td>\n",
              "      <td>98178</td>\n",
              "      <td>47.5112</td>\n",
              "      <td>-122.257</td>\n",
              "    </tr>\n",
              "    <tr>\n",
              "      <th>1</th>\n",
              "      <td>20141209T000000</td>\n",
              "      <td>538000.0</td>\n",
              "      <td>3</td>\n",
              "      <td>2.25</td>\n",
              "      <td>2570</td>\n",
              "      <td>7242</td>\n",
              "      <td>2.0</td>\n",
              "      <td>0</td>\n",
              "      <td>0</td>\n",
              "      <td>3</td>\n",
              "      <td>7</td>\n",
              "      <td>2170</td>\n",
              "      <td>400</td>\n",
              "      <td>1951</td>\n",
              "      <td>1991</td>\n",
              "      <td>98125</td>\n",
              "      <td>47.7210</td>\n",
              "      <td>-122.319</td>\n",
              "    </tr>\n",
              "    <tr>\n",
              "      <th>2</th>\n",
              "      <td>20150225T000000</td>\n",
              "      <td>180000.0</td>\n",
              "      <td>2</td>\n",
              "      <td>1.00</td>\n",
              "      <td>770</td>\n",
              "      <td>10000</td>\n",
              "      <td>1.0</td>\n",
              "      <td>0</td>\n",
              "      <td>0</td>\n",
              "      <td>3</td>\n",
              "      <td>6</td>\n",
              "      <td>770</td>\n",
              "      <td>0</td>\n",
              "      <td>1933</td>\n",
              "      <td>0</td>\n",
              "      <td>98028</td>\n",
              "      <td>47.7379</td>\n",
              "      <td>-122.233</td>\n",
              "    </tr>\n",
              "    <tr>\n",
              "      <th>3</th>\n",
              "      <td>20141209T000000</td>\n",
              "      <td>604000.0</td>\n",
              "      <td>4</td>\n",
              "      <td>3.00</td>\n",
              "      <td>1960</td>\n",
              "      <td>5000</td>\n",
              "      <td>1.0</td>\n",
              "      <td>0</td>\n",
              "      <td>0</td>\n",
              "      <td>5</td>\n",
              "      <td>7</td>\n",
              "      <td>1050</td>\n",
              "      <td>910</td>\n",
              "      <td>1965</td>\n",
              "      <td>0</td>\n",
              "      <td>98136</td>\n",
              "      <td>47.5208</td>\n",
              "      <td>-122.393</td>\n",
              "    </tr>\n",
              "    <tr>\n",
              "      <th>4</th>\n",
              "      <td>20150218T000000</td>\n",
              "      <td>510000.0</td>\n",
              "      <td>3</td>\n",
              "      <td>2.00</td>\n",
              "      <td>1680</td>\n",
              "      <td>8080</td>\n",
              "      <td>1.0</td>\n",
              "      <td>0</td>\n",
              "      <td>0</td>\n",
              "      <td>3</td>\n",
              "      <td>8</td>\n",
              "      <td>1680</td>\n",
              "      <td>0</td>\n",
              "      <td>1987</td>\n",
              "      <td>0</td>\n",
              "      <td>98074</td>\n",
              "      <td>47.6168</td>\n",
              "      <td>-122.045</td>\n",
              "    </tr>\n",
              "    <tr>\n",
              "      <th>5</th>\n",
              "      <td>20140512T000000</td>\n",
              "      <td>1225000.0</td>\n",
              "      <td>4</td>\n",
              "      <td>4.50</td>\n",
              "      <td>5420</td>\n",
              "      <td>101930</td>\n",
              "      <td>1.0</td>\n",
              "      <td>0</td>\n",
              "      <td>0</td>\n",
              "      <td>3</td>\n",
              "      <td>11</td>\n",
              "      <td>3890</td>\n",
              "      <td>1530</td>\n",
              "      <td>2001</td>\n",
              "      <td>0</td>\n",
              "      <td>98053</td>\n",
              "      <td>47.6561</td>\n",
              "      <td>-122.005</td>\n",
              "    </tr>\n",
              "    <tr>\n",
              "      <th>6</th>\n",
              "      <td>20140627T000000</td>\n",
              "      <td>257500.0</td>\n",
              "      <td>3</td>\n",
              "      <td>2.25</td>\n",
              "      <td>1715</td>\n",
              "      <td>6819</td>\n",
              "      <td>2.0</td>\n",
              "      <td>0</td>\n",
              "      <td>0</td>\n",
              "      <td>3</td>\n",
              "      <td>7</td>\n",
              "      <td>1715</td>\n",
              "      <td>0</td>\n",
              "      <td>1995</td>\n",
              "      <td>0</td>\n",
              "      <td>98003</td>\n",
              "      <td>47.3097</td>\n",
              "      <td>-122.327</td>\n",
              "    </tr>\n",
              "    <tr>\n",
              "      <th>7</th>\n",
              "      <td>20150115T000000</td>\n",
              "      <td>291850.0</td>\n",
              "      <td>3</td>\n",
              "      <td>1.50</td>\n",
              "      <td>1060</td>\n",
              "      <td>9711</td>\n",
              "      <td>1.0</td>\n",
              "      <td>0</td>\n",
              "      <td>0</td>\n",
              "      <td>3</td>\n",
              "      <td>7</td>\n",
              "      <td>1060</td>\n",
              "      <td>0</td>\n",
              "      <td>1963</td>\n",
              "      <td>0</td>\n",
              "      <td>98198</td>\n",
              "      <td>47.4095</td>\n",
              "      <td>-122.315</td>\n",
              "    </tr>\n",
              "    <tr>\n",
              "      <th>8</th>\n",
              "      <td>20150415T000000</td>\n",
              "      <td>229500.0</td>\n",
              "      <td>3</td>\n",
              "      <td>1.00</td>\n",
              "      <td>1780</td>\n",
              "      <td>7470</td>\n",
              "      <td>1.0</td>\n",
              "      <td>0</td>\n",
              "      <td>0</td>\n",
              "      <td>3</td>\n",
              "      <td>7</td>\n",
              "      <td>1050</td>\n",
              "      <td>730</td>\n",
              "      <td>1960</td>\n",
              "      <td>0</td>\n",
              "      <td>98146</td>\n",
              "      <td>47.5123</td>\n",
              "      <td>-122.337</td>\n",
              "    </tr>\n",
              "    <tr>\n",
              "      <th>9</th>\n",
              "      <td>20150312T000000</td>\n",
              "      <td>323000.0</td>\n",
              "      <td>3</td>\n",
              "      <td>2.50</td>\n",
              "      <td>1890</td>\n",
              "      <td>6560</td>\n",
              "      <td>2.0</td>\n",
              "      <td>0</td>\n",
              "      <td>0</td>\n",
              "      <td>3</td>\n",
              "      <td>7</td>\n",
              "      <td>1890</td>\n",
              "      <td>0</td>\n",
              "      <td>2003</td>\n",
              "      <td>0</td>\n",
              "      <td>98038</td>\n",
              "      <td>47.3684</td>\n",
              "      <td>-122.031</td>\n",
              "    </tr>\n",
              "  </tbody>\n",
              "</table>\n",
              "</div>\n",
              "      <button class=\"colab-df-convert\" onclick=\"convertToInteractive('df-51a500c8-a74f-4d67-9834-e99a80c2114b')\"\n",
              "              title=\"Convert this dataframe to an interactive table.\"\n",
              "              style=\"display:none;\">\n",
              "        \n",
              "  <svg xmlns=\"http://www.w3.org/2000/svg\" height=\"24px\"viewBox=\"0 0 24 24\"\n",
              "       width=\"24px\">\n",
              "    <path d=\"M0 0h24v24H0V0z\" fill=\"none\"/>\n",
              "    <path d=\"M18.56 5.44l.94 2.06.94-2.06 2.06-.94-2.06-.94-.94-2.06-.94 2.06-2.06.94zm-11 1L8.5 8.5l.94-2.06 2.06-.94-2.06-.94L8.5 2.5l-.94 2.06-2.06.94zm10 10l.94 2.06.94-2.06 2.06-.94-2.06-.94-.94-2.06-.94 2.06-2.06.94z\"/><path d=\"M17.41 7.96l-1.37-1.37c-.4-.4-.92-.59-1.43-.59-.52 0-1.04.2-1.43.59L10.3 9.45l-7.72 7.72c-.78.78-.78 2.05 0 2.83L4 21.41c.39.39.9.59 1.41.59.51 0 1.02-.2 1.41-.59l7.78-7.78 2.81-2.81c.8-.78.8-2.07 0-2.86zM5.41 20L4 18.59l7.72-7.72 1.47 1.35L5.41 20z\"/>\n",
              "  </svg>\n",
              "      </button>\n",
              "      \n",
              "  <style>\n",
              "    .colab-df-container {\n",
              "      display:flex;\n",
              "      flex-wrap:wrap;\n",
              "      gap: 12px;\n",
              "    }\n",
              "\n",
              "    .colab-df-convert {\n",
              "      background-color: #E8F0FE;\n",
              "      border: none;\n",
              "      border-radius: 50%;\n",
              "      cursor: pointer;\n",
              "      display: none;\n",
              "      fill: #1967D2;\n",
              "      height: 32px;\n",
              "      padding: 0 0 0 0;\n",
              "      width: 32px;\n",
              "    }\n",
              "\n",
              "    .colab-df-convert:hover {\n",
              "      background-color: #E2EBFA;\n",
              "      box-shadow: 0px 1px 2px rgba(60, 64, 67, 0.3), 0px 1px 3px 1px rgba(60, 64, 67, 0.15);\n",
              "      fill: #174EA6;\n",
              "    }\n",
              "\n",
              "    [theme=dark] .colab-df-convert {\n",
              "      background-color: #3B4455;\n",
              "      fill: #D2E3FC;\n",
              "    }\n",
              "\n",
              "    [theme=dark] .colab-df-convert:hover {\n",
              "      background-color: #434B5C;\n",
              "      box-shadow: 0px 1px 3px 1px rgba(0, 0, 0, 0.15);\n",
              "      filter: drop-shadow(0px 1px 2px rgba(0, 0, 0, 0.3));\n",
              "      fill: #FFFFFF;\n",
              "    }\n",
              "  </style>\n",
              "\n",
              "      <script>\n",
              "        const buttonEl =\n",
              "          document.querySelector('#df-51a500c8-a74f-4d67-9834-e99a80c2114b button.colab-df-convert');\n",
              "        buttonEl.style.display =\n",
              "          google.colab.kernel.accessAllowed ? 'block' : 'none';\n",
              "\n",
              "        async function convertToInteractive(key) {\n",
              "          const element = document.querySelector('#df-51a500c8-a74f-4d67-9834-e99a80c2114b');\n",
              "          const dataTable =\n",
              "            await google.colab.kernel.invokeFunction('convertToInteractive',\n",
              "                                                     [key], {});\n",
              "          if (!dataTable) return;\n",
              "\n",
              "          const docLinkHtml = 'Like what you see? Visit the ' +\n",
              "            '<a target=\"_blank\" href=https://colab.research.google.com/notebooks/data_table.ipynb>data table notebook</a>'\n",
              "            + ' to learn more about interactive tables.';\n",
              "          element.innerHTML = '';\n",
              "          dataTable['output_type'] = 'display_data';\n",
              "          await google.colab.output.renderOutput(dataTable, element);\n",
              "          const docLink = document.createElement('div');\n",
              "          docLink.innerHTML = docLinkHtml;\n",
              "          element.appendChild(docLink);\n",
              "        }\n",
              "      </script>\n",
              "    </div>\n",
              "  </div>\n",
              "  "
            ],
            "application/vnd.google.colaboratory.module+javascript": "\n      import \"https://ssl.gstatic.com/colaboratory/data_table/99dac6621f6ae8c4/data_table.js\";\n\n      window.createDataTable({\n        data: [[{\n            'v': 0,\n            'f': \"0\",\n        },\n\"20141013T000000\",\n{\n            'v': 221900.0,\n            'f': \"221900.0\",\n        },\n{\n            'v': 3,\n            'f': \"3\",\n        },\n{\n            'v': 1.0,\n            'f': \"1.0\",\n        },\n{\n            'v': 1180,\n            'f': \"1180\",\n        },\n{\n            'v': 5650,\n            'f': \"5650\",\n        },\n{\n            'v': 1.0,\n            'f': \"1.0\",\n        },\n{\n            'v': 0,\n            'f': \"0\",\n        },\n{\n            'v': 0,\n            'f': \"0\",\n        },\n{\n            'v': 3,\n            'f': \"3\",\n        },\n{\n            'v': 7,\n            'f': \"7\",\n        },\n{\n            'v': 1180,\n            'f': \"1180\",\n        },\n{\n            'v': 0,\n            'f': \"0\",\n        },\n{\n            'v': 1955,\n            'f': \"1955\",\n        },\n{\n            'v': 0,\n            'f': \"0\",\n        },\n{\n            'v': 98178,\n            'f': \"98178\",\n        },\n{\n            'v': 47.5112,\n            'f': \"47.5112\",\n        },\n{\n            'v': -122.257,\n            'f': \"-122.257\",\n        }],\n [{\n            'v': 1,\n            'f': \"1\",\n        },\n\"20141209T000000\",\n{\n            'v': 538000.0,\n            'f': \"538000.0\",\n        },\n{\n            'v': 3,\n            'f': \"3\",\n        },\n{\n            'v': 2.25,\n            'f': \"2.25\",\n        },\n{\n            'v': 2570,\n            'f': \"2570\",\n        },\n{\n            'v': 7242,\n            'f': \"7242\",\n        },\n{\n            'v': 2.0,\n            'f': \"2.0\",\n        },\n{\n            'v': 0,\n            'f': \"0\",\n        },\n{\n            'v': 0,\n            'f': \"0\",\n        },\n{\n            'v': 3,\n            'f': \"3\",\n        },\n{\n            'v': 7,\n            'f': \"7\",\n        },\n{\n            'v': 2170,\n            'f': \"2170\",\n        },\n{\n            'v': 400,\n            'f': \"400\",\n        },\n{\n            'v': 1951,\n            'f': \"1951\",\n        },\n{\n            'v': 1991,\n            'f': \"1991\",\n        },\n{\n            'v': 98125,\n            'f': \"98125\",\n        },\n{\n            'v': 47.721,\n            'f': \"47.721\",\n        },\n{\n            'v': -122.319,\n            'f': \"-122.319\",\n        }],\n [{\n            'v': 2,\n            'f': \"2\",\n        },\n\"20150225T000000\",\n{\n            'v': 180000.0,\n            'f': \"180000.0\",\n        },\n{\n            'v': 2,\n            'f': \"2\",\n        },\n{\n            'v': 1.0,\n            'f': \"1.0\",\n        },\n{\n            'v': 770,\n            'f': \"770\",\n        },\n{\n            'v': 10000,\n            'f': \"10000\",\n        },\n{\n            'v': 1.0,\n            'f': \"1.0\",\n        },\n{\n            'v': 0,\n            'f': \"0\",\n        },\n{\n            'v': 0,\n            'f': \"0\",\n        },\n{\n            'v': 3,\n            'f': \"3\",\n        },\n{\n            'v': 6,\n            'f': \"6\",\n        },\n{\n            'v': 770,\n            'f': \"770\",\n        },\n{\n            'v': 0,\n            'f': \"0\",\n        },\n{\n            'v': 1933,\n            'f': \"1933\",\n        },\n{\n            'v': 0,\n            'f': \"0\",\n        },\n{\n            'v': 98028,\n            'f': \"98028\",\n        },\n{\n            'v': 47.7379,\n            'f': \"47.7379\",\n        },\n{\n            'v': -122.233,\n            'f': \"-122.233\",\n        }],\n [{\n            'v': 3,\n            'f': \"3\",\n        },\n\"20141209T000000\",\n{\n            'v': 604000.0,\n            'f': \"604000.0\",\n        },\n{\n            'v': 4,\n            'f': \"4\",\n        },\n{\n            'v': 3.0,\n            'f': \"3.0\",\n        },\n{\n            'v': 1960,\n            'f': \"1960\",\n        },\n{\n            'v': 5000,\n            'f': \"5000\",\n        },\n{\n            'v': 1.0,\n            'f': \"1.0\",\n        },\n{\n            'v': 0,\n            'f': \"0\",\n        },\n{\n            'v': 0,\n            'f': \"0\",\n        },\n{\n            'v': 5,\n            'f': \"5\",\n        },\n{\n            'v': 7,\n            'f': \"7\",\n        },\n{\n            'v': 1050,\n            'f': \"1050\",\n        },\n{\n            'v': 910,\n            'f': \"910\",\n        },\n{\n            'v': 1965,\n            'f': \"1965\",\n        },\n{\n            'v': 0,\n            'f': \"0\",\n        },\n{\n            'v': 98136,\n            'f': \"98136\",\n        },\n{\n            'v': 47.5208,\n            'f': \"47.5208\",\n        },\n{\n            'v': -122.393,\n            'f': \"-122.393\",\n        }],\n [{\n            'v': 4,\n            'f': \"4\",\n        },\n\"20150218T000000\",\n{\n            'v': 510000.0,\n            'f': \"510000.0\",\n        },\n{\n            'v': 3,\n            'f': \"3\",\n        },\n{\n            'v': 2.0,\n            'f': \"2.0\",\n        },\n{\n            'v': 1680,\n            'f': \"1680\",\n        },\n{\n            'v': 8080,\n            'f': \"8080\",\n        },\n{\n            'v': 1.0,\n            'f': \"1.0\",\n        },\n{\n            'v': 0,\n            'f': \"0\",\n        },\n{\n            'v': 0,\n            'f': \"0\",\n        },\n{\n            'v': 3,\n            'f': \"3\",\n        },\n{\n            'v': 8,\n            'f': \"8\",\n        },\n{\n            'v': 1680,\n            'f': \"1680\",\n        },\n{\n            'v': 0,\n            'f': \"0\",\n        },\n{\n            'v': 1987,\n            'f': \"1987\",\n        },\n{\n            'v': 0,\n            'f': \"0\",\n        },\n{\n            'v': 98074,\n            'f': \"98074\",\n        },\n{\n            'v': 47.6168,\n            'f': \"47.6168\",\n        },\n{\n            'v': -122.045,\n            'f': \"-122.045\",\n        }],\n [{\n            'v': 5,\n            'f': \"5\",\n        },\n\"20140512T000000\",\n{\n            'v': 1225000.0,\n            'f': \"1225000.0\",\n        },\n{\n            'v': 4,\n            'f': \"4\",\n        },\n{\n            'v': 4.5,\n            'f': \"4.5\",\n        },\n{\n            'v': 5420,\n            'f': \"5420\",\n        },\n{\n            'v': 101930,\n            'f': \"101930\",\n        },\n{\n            'v': 1.0,\n            'f': \"1.0\",\n        },\n{\n            'v': 0,\n            'f': \"0\",\n        },\n{\n            'v': 0,\n            'f': \"0\",\n        },\n{\n            'v': 3,\n            'f': \"3\",\n        },\n{\n            'v': 11,\n            'f': \"11\",\n        },\n{\n            'v': 3890,\n            'f': \"3890\",\n        },\n{\n            'v': 1530,\n            'f': \"1530\",\n        },\n{\n            'v': 2001,\n            'f': \"2001\",\n        },\n{\n            'v': 0,\n            'f': \"0\",\n        },\n{\n            'v': 98053,\n            'f': \"98053\",\n        },\n{\n            'v': 47.6561,\n            'f': \"47.6561\",\n        },\n{\n            'v': -122.005,\n            'f': \"-122.005\",\n        }],\n [{\n            'v': 6,\n            'f': \"6\",\n        },\n\"20140627T000000\",\n{\n            'v': 257500.0,\n            'f': \"257500.0\",\n        },\n{\n            'v': 3,\n            'f': \"3\",\n        },\n{\n            'v': 2.25,\n            'f': \"2.25\",\n        },\n{\n            'v': 1715,\n            'f': \"1715\",\n        },\n{\n            'v': 6819,\n            'f': \"6819\",\n        },\n{\n            'v': 2.0,\n            'f': \"2.0\",\n        },\n{\n            'v': 0,\n            'f': \"0\",\n        },\n{\n            'v': 0,\n            'f': \"0\",\n        },\n{\n            'v': 3,\n            'f': \"3\",\n        },\n{\n            'v': 7,\n            'f': \"7\",\n        },\n{\n            'v': 1715,\n            'f': \"1715\",\n        },\n{\n            'v': 0,\n            'f': \"0\",\n        },\n{\n            'v': 1995,\n            'f': \"1995\",\n        },\n{\n            'v': 0,\n            'f': \"0\",\n        },\n{\n            'v': 98003,\n            'f': \"98003\",\n        },\n{\n            'v': 47.3097,\n            'f': \"47.3097\",\n        },\n{\n            'v': -122.327,\n            'f': \"-122.327\",\n        }],\n [{\n            'v': 7,\n            'f': \"7\",\n        },\n\"20150115T000000\",\n{\n            'v': 291850.0,\n            'f': \"291850.0\",\n        },\n{\n            'v': 3,\n            'f': \"3\",\n        },\n{\n            'v': 1.5,\n            'f': \"1.5\",\n        },\n{\n            'v': 1060,\n            'f': \"1060\",\n        },\n{\n            'v': 9711,\n            'f': \"9711\",\n        },\n{\n            'v': 1.0,\n            'f': \"1.0\",\n        },\n{\n            'v': 0,\n            'f': \"0\",\n        },\n{\n            'v': 0,\n            'f': \"0\",\n        },\n{\n            'v': 3,\n            'f': \"3\",\n        },\n{\n            'v': 7,\n            'f': \"7\",\n        },\n{\n            'v': 1060,\n            'f': \"1060\",\n        },\n{\n            'v': 0,\n            'f': \"0\",\n        },\n{\n            'v': 1963,\n            'f': \"1963\",\n        },\n{\n            'v': 0,\n            'f': \"0\",\n        },\n{\n            'v': 98198,\n            'f': \"98198\",\n        },\n{\n            'v': 47.4095,\n            'f': \"47.4095\",\n        },\n{\n            'v': -122.315,\n            'f': \"-122.315\",\n        }],\n [{\n            'v': 8,\n            'f': \"8\",\n        },\n\"20150415T000000\",\n{\n            'v': 229500.0,\n            'f': \"229500.0\",\n        },\n{\n            'v': 3,\n            'f': \"3\",\n        },\n{\n            'v': 1.0,\n            'f': \"1.0\",\n        },\n{\n            'v': 1780,\n            'f': \"1780\",\n        },\n{\n            'v': 7470,\n            'f': \"7470\",\n        },\n{\n            'v': 1.0,\n            'f': \"1.0\",\n        },\n{\n            'v': 0,\n            'f': \"0\",\n        },\n{\n            'v': 0,\n            'f': \"0\",\n        },\n{\n            'v': 3,\n            'f': \"3\",\n        },\n{\n            'v': 7,\n            'f': \"7\",\n        },\n{\n            'v': 1050,\n            'f': \"1050\",\n        },\n{\n            'v': 730,\n            'f': \"730\",\n        },\n{\n            'v': 1960,\n            'f': \"1960\",\n        },\n{\n            'v': 0,\n            'f': \"0\",\n        },\n{\n            'v': 98146,\n            'f': \"98146\",\n        },\n{\n            'v': 47.5123,\n            'f': \"47.5123\",\n        },\n{\n            'v': -122.337,\n            'f': \"-122.337\",\n        }],\n [{\n            'v': 9,\n            'f': \"9\",\n        },\n\"20150312T000000\",\n{\n            'v': 323000.0,\n            'f': \"323000.0\",\n        },\n{\n            'v': 3,\n            'f': \"3\",\n        },\n{\n            'v': 2.5,\n            'f': \"2.5\",\n        },\n{\n            'v': 1890,\n            'f': \"1890\",\n        },\n{\n            'v': 6560,\n            'f': \"6560\",\n        },\n{\n            'v': 2.0,\n            'f': \"2.0\",\n        },\n{\n            'v': 0,\n            'f': \"0\",\n        },\n{\n            'v': 0,\n            'f': \"0\",\n        },\n{\n            'v': 3,\n            'f': \"3\",\n        },\n{\n            'v': 7,\n            'f': \"7\",\n        },\n{\n            'v': 1890,\n            'f': \"1890\",\n        },\n{\n            'v': 0,\n            'f': \"0\",\n        },\n{\n            'v': 2003,\n            'f': \"2003\",\n        },\n{\n            'v': 0,\n            'f': \"0\",\n        },\n{\n            'v': 98038,\n            'f': \"98038\",\n        },\n{\n            'v': 47.3684,\n            'f': \"47.3684\",\n        },\n{\n            'v': -122.031,\n            'f': \"-122.031\",\n        }]],\n        columns: [[\"number\", \"index\"], [\"string\", \"date\"], [\"number\", \"price\"], [\"number\", \"bedrooms\"], [\"number\", \"bathrooms\"], [\"number\", \"sqft_living\"], [\"number\", \"sqft_lot\"], [\"number\", \"floors\"], [\"number\", \"waterfront\"], [\"number\", \"view\"], [\"number\", \"condition\"], [\"number\", \"grade\"], [\"number\", \"sqft_above\"], [\"number\", \"sqft_basement\"], [\"number\", \"yr_built\"], [\"number\", \"yr_renovated\"], [\"number\", \"zipcode\"], [\"number\", \"lat\"], [\"number\", \"long\"]],\n        columnOptions: [{\"width\": \"1px\", \"className\": \"index_column\"}],\n        rowsPerPage: 25,\n        helpUrl: \"https://colab.research.google.com/notebooks/data_table.ipynb\",\n        suppressOutputScrolling: true,\n        minimumWidth: undefined,\n      });\n    "
          },
          "metadata": {},
          "execution_count": 3
        }
      ],
      "source": [
        "import pandas as pd\n",
        "from google.colab import drive\n",
        "from google.colab import data_table\n",
        "import matplotlib.pyplot as plt\n",
        "data_table.enable_dataframe_formatter()\n",
        "\n",
        "drive.mount('/content/drive')\n",
        "data = pd.read_csv(\"/content/drive/MyDrive/Colab Notebooks/Chapter 2/kc_house_data.csv\")\n",
        "\n",
        "data.head(10)"
      ]
    },
    {
      "cell_type": "markdown",
      "source": [
        "Description of the dataset\n",
        "* id: a notation for a house\n",
        "* date: Date house was sold\n",
        "* price: Price is prediction target\n",
        "* bedrooms: Number of Bedrooms/House\n",
        "* bathrooms: Number of bathrooms/bedrooms\n",
        "* sqft_living: square footage of the home \n",
        "* sqft_lot: square footage of the lot \n",
        "* floors: Total floors (levels) in house \n",
        "* waterfront: House which has a view to a waterfront\n",
        "* view: Has been viewed\n",
        "* condition: How good the condition is Overall \n",
        "* grade: overall grade given to the housing unit, based on King County grading system \n",
        "* sqft_above: square footage of house apart from basement \n",
        "* sqft_basement: square footage of the basement \n",
        "* yr_built: Built Year \n",
        "* yr_renovated: Year when house was renovated \n",
        "* zipcode: zip code \n",
        "* lat: Latitude coordinate \n",
        "* long: Longitude coordinate"
      ],
      "metadata": {
        "id": "Zr8vjVS71BXV"
      }
    },
    {
      "cell_type": "markdown",
      "source": [
        "See chapters 1 & 2 for all questions below!\n",
        "\n",
        "What is a machine learning pipeline? Please make a fictitious example that is appropriate for our data set.\n",
        "\n",
        "Is our task a a supervised, unsupervised, semi-supervised, self-supervised, or reinforcement learning task? Is it a classification or regression task? Do we use batch or online learning?\n",
        "\n",
        "What is a performance measure? Give two typical examples of performance measures in regression models. How can these be interpreted in a linear regression?\n"
      ],
      "metadata": {
        "id": "0EWqRqc95C3I"
      }
    },
    {
      "cell_type": "markdown",
      "source": [
        "##Take a Quick Look at the Data Structure\n",
        "\n",
        "Try to use the functions *head()*, *describe()* and *info()* to get further informations of the dataset. Additional use *value_counts()* to get all possible values of one variable. For all variables, consider whether they are categorical, ordinal, or numeric! Do you notice anything about the variable waterfront when you compare it with the variable renovated?"
      ],
      "metadata": {
        "id": "EuTVSig2g-xL"
      }
    },
    {
      "cell_type": "code",
      "source": [
        "# YOUR TASK"
      ],
      "metadata": {
        "id": "nl2V-_eTSBk7",
        "colab": {
          "base_uri": "https://localhost:8080/"
        },
        "outputId": "2b29edb5-0bbd-4112-b2b8-cd2b335590df"
      },
      "execution_count": null,
      "outputs": [
        {
          "output_type": "execute_result",
          "data": {
            "text/plain": [
              "0    21450\n",
              "1      163\n",
              "Name: waterfront, dtype: int64"
            ]
          },
          "metadata": {},
          "execution_count": 7
        }
      ]
    },
    {
      "cell_type": "markdown",
      "source": [
        "Try to visualize the distributions of all the variables. (Use the *hist()* function from *matplotlib*.) Are some distributions skewed? What is right-skewed or left-skewed? Do the scales of the different variables differ? What do you notice with the variable *yr_renovated*?"
      ],
      "metadata": {
        "id": "qblhktP2UyjS"
      }
    },
    {
      "cell_type": "code",
      "source": [
        "# YOUR TASK"
      ],
      "metadata": {
        "id": "s-VqnAPZRX7Z"
      },
      "execution_count": null,
      "outputs": []
    },
    {
      "cell_type": "markdown",
      "source": [
        "Unrenovated houses have the entry 0. With which variable could we replace the entry 0?\n",
        "\n",
        "Your task is to clean the dataset: \n",
        "\n",
        "1. Divide the variable *yr_renovated* into two variables.\n",
        "2. Create a binary variable that indicates whether the house has been renovated or not. (0 = no renovation, 1 = renovated) You can use the *cut()* function.\n",
        "3. Additionally overwrite the variable *yr_renovated* with the maximum of yr_renovated and yr_built, you can use the max() function.\n",
        "4. Change the *date* column to *datetime* with the function *to_datetime()*."
      ],
      "metadata": {
        "id": "Typ7TEEm4vhK"
      }
    },
    {
      "cell_type": "code",
      "source": [
        "# Some Data Cleaning\n",
        "data['date'] = # YOUR TASK\n",
        "data['renovated'] = # YOUR TASK\n",
        "data['yr_renovated'] = # YOUR TASK"
      ],
      "metadata": {
        "id": "L-uNXqO_xQZ4"
      },
      "execution_count": null,
      "outputs": []
    },
    {
      "cell_type": "markdown",
      "source": [
        "##Create a Test Set\n",
        "\n",
        "Try to explain what a *stratified sampling* is. Try to create a stratified train and test set, which should be named *train_set* and *test_set*. Create an extra column for this, which divides the house prices from the dataset into different categories. At the end, overwrite your dataset with the training dataset with *data = train_set.copy()*."
      ],
      "metadata": {
        "id": "h49GWzJnhZQK"
      }
    },
    {
      "cell_type": "code",
      "source": [
        "from sklearn.model_selection import train_test_split\n",
        "\n",
        "train_set, test_set = # YOUR TASK\n",
        "\n",
        "train_set = # YOUR TASK\n",
        "test_set = # YOUR TASK"
      ],
      "metadata": {
        "id": "JliA_yyunK09"
      },
      "execution_count": null,
      "outputs": []
    },
    {
      "cell_type": "code",
      "source": [
        "data = train_set.copy()\n",
        "data.head(50)"
      ],
      "metadata": {
        "id": "CuVCysJPrype"
      },
      "execution_count": null,
      "outputs": []
    },
    {
      "cell_type": "markdown",
      "source": [
        "##Explore and Visualize the Data to Gain Insights\n",
        "\n",
        "First, try to visualize the geographic dates (*lat*, *long*) from our dataset in a scatter plot. Where are the expensive houses located? For example, you can use a logarithmic color bar to see where it is cheaper and more expensive. Consider how to combine the 'lat' and 'long' features into a simpler feature. (No implementation, but a consideration is sufficient)."
      ],
      "metadata": {
        "id": "2eivszboqBAD"
      }
    },
    {
      "cell_type": "code",
      "source": [
        "# YOUR TASK"
      ],
      "metadata": {
        "colab": {
          "base_uri": "https://localhost:8080/",
          "height": 267
        },
        "id": "w-9DUNsNsTyn",
        "outputId": "6d2faf9d-20dc-4025-c430-fa927c2c5a01"
      },
      "execution_count": null,
      "outputs": [
        {
          "output_type": "display_data",
          "data": {
            "text/plain": [
              "<Figure size 432x288 with 2 Axes>"
            ],
            "image/png": "[encoded data removed]"
          },
          "metadata": {
            "needs_background": "light"
          }
        }
      ]
    },
    {
      "cell_type": "markdown",
      "source": [
        "### Correlations\n",
        "\n",
        "Since the dataset does not have so many features, it is quite easy to calculate the correlations of these. Please calculate all meaningful standard correlation effects with the function *corr()*. How can the values of this correlation effect be interpreted? What are probably the best variables to predict? For which variables does the Pearson coefficient make sense and for which not?"
      ],
      "metadata": {
        "id": "OERkW3jzqA5A"
      }
    },
    {
      "cell_type": "code",
      "source": [
        "# YOUR TASK"
      ],
      "metadata": {
        "id": "jLRDbB7B1gVQ"
      },
      "execution_count": null,
      "outputs": []
    },
    {
      "cell_type": "markdown",
      "source": [
        "Additionally, create a scatter plot for the most important features using the Pandas scatter_matrix() function. What do you notice about the variables sqft_living, sqft_above and sqft_basement? "
      ],
      "metadata": {
        "id": "61Y0SDte6Erc"
      }
    },
    {
      "cell_type": "code",
      "source": [
        "#YOUR TASK"
      ],
      "metadata": {
        "id": "qMD0qNMK2Jow"
      },
      "execution_count": null,
      "outputs": []
    },
    {
      "cell_type": "markdown",
      "source": [
        "## Experiment with Attribute Combinations\n",
        "\n",
        "Try to combine the columns bedrooms, sqft_living by calculating the bedroom density, i.e. *bedrooms/sqft_living*. Check the new Pearson Correlation coefficients.\n"
      ],
      "metadata": {
        "id": "RYPn6pNU75Db"
      }
    },
    {
      "cell_type": "code",
      "source": [
        "#YOUR TASK"
      ],
      "metadata": {
        "id": "q9lOfs228qjq"
      },
      "execution_count": null,
      "outputs": []
    },
    {
      "cell_type": "markdown",
      "source": [
        "##Prepare the Data for Machine Learning Algorithms"
      ],
      "metadata": {
        "id": "6S-L1RdgDDD0"
      }
    },
    {
      "cell_type": "markdown",
      "source": [
        "In the first step, we separate our trainings dataset with our labeled dataset."
      ],
      "metadata": {
        "id": "xuzM0jyGFjEs"
      }
    },
    {
      "cell_type": "code",
      "source": [
        "data = train_set.drop(\"price\", axis=1)\n",
        "data_label = train_set[[\"price\"]].copy()"
      ],
      "metadata": {
        "id": "C0EgPFu0D7Au"
      },
      "execution_count": null,
      "outputs": []
    },
    {
      "cell_type": "markdown",
      "source": [
        "###Missing Data\n",
        "\n",
        "What options do we have to deal with missing values? What options do we have to deal with missing values? Write a code that give all lines, which have any missing value. What is the function *SimpleImputer(strategy=\"median\")* doing?"
      ],
      "metadata": {
        "id": "lIA5iN1pFgz7"
      }
    },
    {
      "cell_type": "code",
      "source": [
        "#YOUR TASK: Write a code that give all lines, which have any missing value. "
      ],
      "metadata": {
        "id": "B2GJs8Sp5kfB",
        "colab": {
          "base_uri": "https://localhost:8080/"
        },
        "outputId": "1a75de7a-fc71-437b-ef91-d6e6cecdd480"
      },
      "execution_count": null,
      "outputs": [
        {
          "output_type": "stream",
          "name": "stdout",
          "text": [
            "Empty DataFrame\n",
            "Columns: [date, bedrooms, bathrooms, sqft_living, sqft_lot, floors, waterfront, view, condition, grade, sqft_above, sqft_basement, yr_built, yr_renovated, zipcode, lat, long, renovated]\n",
            "Index: []\n"
          ]
        }
      ]
    },
    {
      "cell_type": "markdown",
      "source": [
        "###Handling Text and Categorical Attributes\n"
      ],
      "metadata": {
        "id": "ESJiMKe5PWlE"
      }
    },
    {
      "cell_type": "markdown",
      "source": [
        "What are ordinal and categorical data? Do we have such data in our data set? What possibilities do we have to transform this data correctly? What are dummy attributes? Try to understand what the function *OneHotEncoder()* does with the variable waterfront."
      ],
      "metadata": {
        "id": "mbFMmQmEeU6P"
      }
    },
    {
      "cell_type": "code",
      "source": [
        "from sklearn.preprocessing import OneHotEncoder\n",
        "cat_encoder = OneHotEncoder()\n",
        "\n",
        "waterfront_encoded = #YOUR TASK"
      ],
      "metadata": {
        "id": "7gHbxQ1mPVjt"
      },
      "execution_count": null,
      "outputs": []
    },
    {
      "cell_type": "markdown",
      "source": [
        "##Feature Scaling and Transformation"
      ],
      "metadata": {
        "id": "ptt3_Jt6jP0Q"
      }
    },
    {
      "cell_type": "markdown",
      "source": [
        "What is min-max scaling and standardization of features? What is a heavy tail in a distribution? What problem do we have with min-max scaling and standardization on a heavy-tailed distribution? Can you make an example?"
      ],
      "metadata": {
        "id": "TspxADyqwjHX"
      }
    },
    {
      "cell_type": "code",
      "source": [
        "data.columns"
      ],
      "metadata": {
        "colab": {
          "base_uri": "https://localhost:8080/"
        },
        "id": "GSYlUIdXhe37",
        "outputId": "b955f625-1b9f-4061-8699-e007c25a0fa8"
      },
      "execution_count": null,
      "outputs": [
        {
          "output_type": "execute_result",
          "data": {
            "text/plain": [
              "Index(['date', 'bedrooms', 'bathrooms', 'sqft_living', 'sqft_lot', 'floors',\n",
              "       'waterfront', 'view', 'condition', 'grade', 'sqft_above',\n",
              "       'sqft_basement', 'yr_built', 'yr_renovated', 'zipcode', 'lat', 'long',\n",
              "       'renovated'],\n",
              "      dtype='object')"
            ]
          },
          "metadata": {},
          "execution_count": 20
        }
      ]
    },
    {
      "cell_type": "markdown",
      "source": [
        "Try to brainstorm which variable conversion makes sense for which variable! Write down your guess! Try to understand the following two code blocks, how are the variables *long* and *lat* converted?"
      ],
      "metadata": {
        "id": "DTE43CjSNCxZ"
      }
    },
    {
      "cell_type": "code",
      "source": [
        "from sklearn.cluster import KMeans\n",
        "from sklearn.metrics.pairwise import rbf_kernel\n",
        "from sklearn.base import BaseEstimator, TransformerMixin\n",
        "\n",
        "class ClusterSimilarity(BaseEstimator, TransformerMixin):\n",
        "    def __init__(self, n_clusters=10, gamma=1.0, random_state=None):\n",
        "        self.n_clusters = n_clusters\n",
        "        self.gamma = gamma\n",
        "        self.random_state = random_state\n",
        "\n",
        "    def fit(self, X, y=None, sample_weight=None):\n",
        "        self.kmeans_ = KMeans(self.n_clusters, random_state=self.random_state)\n",
        "        self.kmeans_.fit(X, sample_weight=sample_weight)\n",
        "        return self\n",
        "\n",
        "    def transform(self, X):\n",
        "        return rbf_kernel(X, self.kmeans_.cluster_centers_, gamma=self.gamma)\n",
        "    \n",
        "    def get_feature_names_out(self, names=None):\n",
        "        return [f\"Cluster {i} similarity\" for i in range(self.n_clusters)]\n"
      ],
      "metadata": {
        "id": "FYSwa_7bF_do"
      },
      "execution_count": null,
      "outputs": []
    },
    {
      "cell_type": "code",
      "source": [
        "cluster_simil = ClusterSimilarity(n_clusters=15, gamma=100., random_state=42)\n",
        "similarities = cluster_simil.fit_transform(data[[\"lat\", \"long\"]],\n",
        "                                           sample_weight=data_label[\"price\"])\n",
        "\n",
        "data_renamed = data.rename(columns={\n",
        "    \"lat\": \"Latitude\", \"long\": \"Longitude\"})\n",
        "\n",
        "data_renamed[\"Max cluster similarity\"] = similarities.max(axis=1)\n",
        "\n",
        "data_renamed.plot(kind=\"scatter\", x=\"Longitude\", y=\"Latitude\", grid=True,\n",
        "                     c=\"Max cluster similarity\",\n",
        "                     cmap=\"jet\", colorbar=True,\n",
        "                     legend=True, sharex=False, figsize=(10, 7))\n",
        "plt.plot(cluster_simil.kmeans_.cluster_centers_[:, 1],\n",
        "         cluster_simil.kmeans_.cluster_centers_[:, 0],\n",
        "         linestyle=\"\", color=\"black\", marker=\"X\", markersize=20,\n",
        "         label=\"Cluster centers\")\n",
        "plt.legend(loc=\"upper right\")\n",
        "\n",
        "plt.show()"
      ],
      "metadata": {
        "id": "XTPORXazcxvt"
      },
      "execution_count": null,
      "outputs": []
    },
    {
      "cell_type": "markdown",
      "source": [
        "Have a look at my suggestion of variable conversion. I ask you to understand the code in detail, what variable transformations have I made? What arguments are in favor, and what arguments might be against? How would you convert the variables if you compare it with your guess?"
      ],
      "metadata": {
        "id": "H2Dtf-l_PX3i"
      }
    },
    {
      "cell_type": "code",
      "source": [
        "from sklearn.compose import ColumnTransformer\n",
        "from sklearn.pipeline import make_pipeline\n",
        "from sklearn.preprocessing import FunctionTransformer\n",
        "from sklearn.preprocessing import StandardScaler\n",
        "import numpy as np\n",
        "from sklearn.preprocessing import OneHotEncoder\n",
        "\n",
        "def time(X):\n",
        " a =  pd.to_datetime(\"now\") - X[X.columns[0]]\n",
        " a = a.dt.total_seconds()\n",
        " return a.to_frame()\n",
        "\n",
        "date_pipeline = make_pipeline(\n",
        " FunctionTransformer(time),\n",
        " StandardScaler())\n",
        "\n",
        "cluster_simil = ClusterSimilarity(n_clusters=15, gamma=100., random_state=42)\n",
        "\n",
        "default_num_pipeline = make_pipeline(StandardScaler())\n",
        "\n",
        "log_pipeline = make_pipeline(\n",
        " FunctionTransformer(np.log),\n",
        " StandardScaler())\n",
        "\n",
        "label_pipeline = make_pipeline(\n",
        " FunctionTransformer(np.log)) \n",
        "\n",
        "cat_pipeline = make_pipeline(OneHotEncoder(handle_unknown=\"ignore\"))\n",
        "\n",
        "preprocessing = ColumnTransformer([\n",
        " (\"log\", log_pipeline, [\"sqft_living\", \"sqft_lot\", \"sqft_above\"]),\n",
        " (\"geo\", cluster_simil, [\"lat\", \"long\"]),\n",
        " (\"cat\", cat_pipeline, [\"waterfront\", \"renovated\"]),\n",
        " (\"date\", date_pipeline, [\"date\"]),\n",
        " (\"normal\", default_num_pipeline, [\"yr_built\", \"yr_renovated\", \"bedrooms\", \"bathrooms\", \"floors\", \"view\", \"condition\", \"grade\"])\n",
        " ])\n",
        "\n",
        "preprocessing_label = ColumnTransformer([\n",
        " (\"log\", label_pipeline, [\"price\"])\n",
        " ])"
      ],
      "metadata": {
        "id": "_bad6uecbinL"
      },
      "execution_count": null,
      "outputs": []
    },
    {
      "cell_type": "markdown",
      "source": [
        "How many features do we have for predicition?"
      ],
      "metadata": {
        "id": "E7JSLLA6Brnm"
      }
    },
    {
      "cell_type": "code",
      "source": [
        "data_prepared = preprocessing.fit_transform(data)\n",
        "data_prepared.shape"
      ],
      "metadata": {
        "id": "t3K8Lj0_jBGP"
      },
      "execution_count": null,
      "outputs": []
    },
    {
      "cell_type": "markdown",
      "source": [
        "##Select and Train a Model\n",
        "\n",
        "###Linear Model"
      ],
      "metadata": {
        "id": "pI2GEpNO4lVo"
      }
    },
    {
      "cell_type": "markdown",
      "source": [
        "The following code determines a linear regression model, again try to explain what the code computes!"
      ],
      "metadata": {
        "id": "6v8HqloIQ1CK"
      }
    },
    {
      "cell_type": "code",
      "source": [
        "from sklearn.linear_model import LinearRegression\n",
        "\n",
        "data_label_transformed = preprocessing_label.fit_transform(data_label)\n",
        "\n",
        "lin_reg = make_pipeline(preprocessing, LinearRegression())\n",
        "lin_reg.fit(data, data_label_transformed)\n",
        "\n",
        "data_predictions = lin_reg.predict(data)"
      ],
      "metadata": {
        "id": "HBhwDtu0KAZs"
      },
      "execution_count": null,
      "outputs": []
    },
    {
      "cell_type": "markdown",
      "source": [
        "Your task is to determine the median of the absolute error [Median(ABS(a-b))] (In addition, you can also get the percentage error by dividing by the actual sales value before taking the median.) and the Root Mean Square Error (RMSE)! Remember that estimates are logarithmic. Also calculate the median of all home prices. And try to evaluate all error values. How good is the model?"
      ],
      "metadata": {
        "id": "bYwiFxh4Qdbb"
      }
    },
    {
      "cell_type": "code",
      "source": [
        "# Your task"
      ],
      "metadata": {
        "id": "MSBRjOje8_h8"
      },
      "execution_count": null,
      "outputs": []
    },
    {
      "cell_type": "markdown",
      "source": [
        "###Random Forest Regressor"
      ],
      "metadata": {
        "id": "oaHv3Jm4_mjq"
      }
    },
    {
      "cell_type": "markdown",
      "source": [
        "We will now also compute a Radom Forrest model, automatically determining a cross validation with n = 10 on the training dataset. What happens during the cross validation? Why have I adjusted the R squared error with a separate function? What is the function *np.ravel* doing?"
      ],
      "metadata": {
        "id": "-5uVLymyLDyh"
      }
    },
    {
      "cell_type": "code",
      "source": [
        "from sklearn.model_selection import cross_val_score\n",
        "from sklearn.ensemble import RandomForestRegressor\n",
        "from sklearn.metrics import make_scorer\n",
        "\n",
        "data_label_transformed = preprocessing_label.fit_transform(data_label)\n",
        "\n",
        "forest_reg = make_pipeline(preprocessing, RandomForestRegressor(random_state=42))\n",
        "forest_reg.fit(data, np.ravel(data_label_transformed))\n",
        "\n",
        "def adjusted_rsquare(y_true, y_pred, **kwargs):\n",
        "  return -np.sqrt(np.mean((np.exp(y_true)-np.exp(y_pred))**2))\n",
        "\n",
        "neg_exp_root_mean_squared_error = make_scorer(adjusted_rsquare, greater_is_better=False)\n",
        "\n",
        "forest_rmses = -cross_val_score(forest_reg, data, np.ravel(data_label_transformed),\n",
        " scoring=neg_exp_root_mean_squared_error, cv=10)\n",
        "\n"
      ],
      "metadata": {
        "id": "n3CE6FgPMkvD"
      },
      "execution_count": null,
      "outputs": []
    },
    {
      "cell_type": "markdown",
      "source": [
        "The following code outputs the RMSE for all 10 folds, compare it to the linear regression."
      ],
      "metadata": {
        "id": "lviW5tuKiC2d"
      }
    },
    {
      "cell_type": "code",
      "source": [
        "pd.Series(forest_rmses).describe()"
      ],
      "metadata": {
        "id": "5glFSw4ZEdx0"
      },
      "execution_count": null,
      "outputs": []
    },
    {
      "cell_type": "markdown",
      "source": [
        "##Fine-Tune Your Model\n",
        "\n",
        "###Grid Search & Randomized Search\n",
        "Try to explain what the Grid Search and Random Search methods do. What are the advantages of each method. For which parameters would this make sense in our example?"
      ],
      "metadata": {
        "id": "QmGGpNLT2P61"
      }
    },
    {
      "cell_type": "markdown",
      "source": [
        "###Evaluate Your System on the Test Set\n",
        "\n",
        "Try to evaluate the final model with the test set. Compute the Median and 95% confidence interval of the root mean squared error and the median of the absolute error.\n",
        "\n",
        "Remember to invert your results with the inverse functions you applied to the label variable as a preprocessing step. (The logarithm is the inverse function of the exponential function)."
      ],
      "metadata": {
        "id": "jPdkpYVazu62"
      }
    },
    {
      "cell_type": "code",
      "source": [
        "# Your TASK"
      ],
      "metadata": {
        "id": "luhX9g4Y0Wja"
      },
      "execution_count": null,
      "outputs": []
    },
    {
      "cell_type": "markdown",
      "source": [
        "##Launch, Monitor, and Maintain Your System\n",
        "\n",
        "What package and code can we use to save and reload our model?\n",
        "\n",
        "Why is it possible that we need a monitoring code?\n",
        "\n",
        "Try to save our learned model so that we can reload it at any time."
      ],
      "metadata": {
        "id": "qt9Soak_tL0G"
      }
    },
    {
      "cell_type": "code",
      "source": [
        "# Your task"
      ],
      "metadata": {
        "id": "QZZW-z0OMhLH"
      },
      "execution_count": null,
      "outputs": []
    },
    {
      "cell_type": "markdown",
      "source": [
        "##Ideas for the Learning Portfolio\n",
        "\n",
        "1) Adding a further model: In a few weeks we will learn neural networks, try to add this model!\n",
        "\n",
        "2) Find a challenge on Kaggle for a regression dataset and use Chapter 2 and this colab to try to solve it. "
      ],
      "metadata": {
        "id": "MSDETcPogKmO"
      }
    }
  ]
}